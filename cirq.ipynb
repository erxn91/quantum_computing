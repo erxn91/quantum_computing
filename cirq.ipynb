{
 "cells": [
  {
   "cell_type": "markdown",
   "metadata": {},
   "source": [
    "# Cirq\n",
    "\n",
    "## Installation\n",
    "\n",
    "``pip install cirq``\n",
    "\n",
    "## Funktionstest"
   ]
  },
  {
   "cell_type": "code",
   "execution_count": 2,
   "metadata": {},
   "outputs": [
    {
     "name": "stdout",
     "output_type": "stream",
     "text": [
      "(0, 0)───(0, 1)───(0, 2)───(0, 3)───(0, 4)───(0, 5)───(0, 6)───(0, 7)───(0, 8)───(0, 9)───(0, 10)\n",
      "│        │        │        │        │        │        │        │        │        │        │\n",
      "│        │        │        │        │        │        │        │        │        │        │\n",
      "(1, 0)───(1, 1)───(1, 2)───(1, 3)───(1, 4)───(1, 5)───(1, 6)───(1, 7)───(1, 8)───(1, 9)───(1, 10)\n"
     ]
    }
   ],
   "source": [
    "import cirq\n",
    "\n",
    "print(cirq.google.Foxtail)"
   ]
  },
  {
   "cell_type": "markdown",
   "metadata": {},
   "source": [
    "## Hello Qubit"
   ]
  },
  {
   "cell_type": "code",
   "execution_count": 3,
   "metadata": {},
   "outputs": [
    {
     "name": "stdout",
     "output_type": "stream",
     "text": [
      "Circuit\n",
      "0: ───M───\n",
      "Result\n",
      "0=0\n"
     ]
    },
    {
     "data": {
      "image/png": "[encoded data removed]",
      "text/plain": [
       "<Figure size 432x288 with 1 Axes>"
      ]
     },
     "metadata": {
      "needs_background": "light"
     },
     "output_type": "display_data"
    },
    {
     "data": {
      "text/plain": [
       "array([1., 0.])"
      ]
     },
     "execution_count": 3,
     "metadata": {},
     "output_type": "execute_result"
    }
   ],
   "source": [
    "# pick a qubit\n",
    "qubit = cirq.LineQubit(0) # position 0\n",
    "\n",
    "# create a circuit\n",
    "circuit = cirq.Circuit(\n",
    "    cirq.measure(qubit)\n",
    ")\n",
    "\n",
    "print(\"Circuit\")\n",
    "print(circuit)\n",
    "\n",
    "# simulate\n",
    "simulator = cirq.Simulator()\n",
    "result = simulator.run(circuit, repetitions=1)\n",
    "\n",
    "print(\"Result\")\n",
    "print(result)\n",
    "\n",
    "cirq.plot_state_histogram(result)"
   ]
  },
  {
   "cell_type": "markdown",
   "metadata": {},
   "source": [
    "# CNOT"
   ]
  },
  {
   "cell_type": "code",
   "execution_count": 11,
   "metadata": {},
   "outputs": [
    {
     "name": "stdout",
     "output_type": "stream",
     "text": [
      "Circuit\n",
      "0: ───@───────\n",
      "      │\n",
      "1: ───X───M───\n",
      "Result\n",
      "1=0000000000\n"
     ]
    }
   ],
   "source": [
    "# pick qubits\n",
    "qubit0 = cirq.LineQubit(0) # position 0\n",
    "qubit1 = cirq.LineQubit(1) # position 1\n",
    "\n",
    "circuit = cirq.Circuit(\n",
    "    cirq.CNOT(control=qubit0, target=qubit1),\n",
    "    cirq.measure(qubit1)\n",
    ")\n",
    "\n",
    "print(\"Circuit\")\n",
    "print(circuit)\n",
    "\n",
    "# simulate\n",
    "simulator = cirq.Simulator()\n",
    "result = simulator.run(circuit, repetitions=10)\n",
    "\n",
    "print(\"Result\")\n",
    "print(result)"
   ]
  },
  {
   "cell_type": "markdown",
   "metadata": {},
   "source": [
    "## Hadamard"
   ]
  },
  {
   "cell_type": "code",
   "execution_count": 9,
   "metadata": {},
   "outputs": [
    {
     "name": "stdout",
     "output_type": "stream",
     "text": [
      "Circuit\n",
      "0: ───H───M───\n",
      "Result\n",
      "0=1110010111011010101111100011111111000110101110011101001110000110100110000000010111100001000101001010000000100101111101111111010101111010001100110110010100100110111100101111100101011010000000010000001010001010101000111000101100010011011101100100101110000110111111000001100100101111110011110101110111000101000001101010100100111101010000110110001010100110100011011111100011110111000100101100110100001011011011000001111101001111100111001010111111100111001001111000111111100000001100000000001110010001101100100101110000001111000011101111011000010111100110010001101110110110111001111101010110101010001110010000101110110101000010000110101100001011101111101100110110000001111010001110011101110111000101010010100010000001010111001111101100000000011111001100101010101111110000011000110110110110010010000000111011001000001000000110101011001011110100100001010111001110111111010110011001010100101101010011100111010000010001101110000101100110000100111101110000110101001110100101100110111100100011010010001011011101\n"
     ]
    },
    {
     "data": {
      "image/png": "[encoded data removed]",
      "text/plain": [
       "<Figure size 432x288 with 1 Axes>"
      ]
     },
     "metadata": {
      "needs_background": "light"
     },
     "output_type": "display_data"
    },
    {
     "data": {
      "text/plain": [
       "array([496., 504.])"
      ]
     },
     "execution_count": 9,
     "metadata": {},
     "output_type": "execute_result"
    }
   ],
   "source": [
    "# pick a qubit\n",
    "qubit = cirq.LineQubit(0) # position 0\n",
    "\n",
    "# create a circuit with HADAMARD\n",
    "circuit = cirq.Circuit(\n",
    "    cirq.H(qubit),\n",
    "    cirq.measure(qubit)\n",
    ")\n",
    "\n",
    "print(\"Circuit\")\n",
    "print(circuit)\n",
    "\n",
    "# simulate\n",
    "simulator = cirq.Simulator()\n",
    "result = simulator.run(circuit, repetitions=1000)\n",
    "\n",
    "print(\"Result\")\n",
    "print(result)\n",
    "\n",
    "cirq.plot_state_histogram(result)"
   ]
  }
 ],
 "metadata": {
  "kernelspec": {
   "display_name": "Python 3",
   "language": "python",
   "name": "python3"
  },
  "language_info": {
   "codemirror_mode": {
    "name": "ipython",
    "version": 3
   },
   "file_extension": ".py",
   "mimetype": "text/x-python",
   "name": "python",
   "nbconvert_exporter": "python",
   "pygments_lexer": "ipython3",
   "version": "3.7.5"
  }
 },
 "nbformat": 4,
 "nbformat_minor": 4
}
