{
 "cells": [
  {
   "cell_type": "markdown",
   "metadata": {},
   "source": [
    "# Cirq\n",
    "\n",
    "## Installation\n",
    "\n",
    "``pip install cirq``\n",
    "\n",
    "## Import"
   ]
  },
  {
   "cell_type": "code",
   "execution_count": 1,
   "metadata": {},
   "outputs": [],
   "source": [
    "import cirq\n",
    "import math\n",
    "import numpy as np"
   ]
  },
  {
   "cell_type": "markdown",
   "metadata": {},
   "source": [
    "## Hello Qubit"
   ]
  },
  {
   "cell_type": "code",
   "execution_count": 2,
   "metadata": {},
   "outputs": [
    {
     "name": "stdout",
     "output_type": "stream",
     "text": [
      "Circuit\n",
      "0: ───M───\n"
     ]
    }
   ],
   "source": [
    "# pick a qubit\n",
    "qubit = cirq.LineQubit(0) # position 0\n",
    "\n",
    "# create a circuit\n",
    "circuit = cirq.Circuit()\n",
    "circuit.append(cirq.measure(qubit))\n",
    "\n",
    "print(\"Circuit\")\n",
    "print(circuit)"
   ]
  },
  {
   "cell_type": "markdown",
   "metadata": {},
   "source": [
    "# NOT"
   ]
  },
  {
   "cell_type": "code",
   "execution_count": 3,
   "metadata": {},
   "outputs": [
    {
     "name": "stdout",
     "output_type": "stream",
     "text": [
      "Circuit\n",
      "0: ───X───\n"
     ]
    }
   ],
   "source": [
    "# pick a qubit\n",
    "qubit = cirq.LineQubit(0) # position 0\n",
    "\n",
    "# create a circuit\n",
    "circuit = cirq.Circuit()\n",
    "circuit.append(cirq.X(qubit))\n",
    "\n",
    "print(\"Circuit\")\n",
    "print(circuit)"
   ]
  },
  {
   "cell_type": "markdown",
   "metadata": {},
   "source": [
    "# CNOT"
   ]
  },
  {
   "cell_type": "code",
   "execution_count": 4,
   "metadata": {},
   "outputs": [
    {
     "name": "stdout",
     "output_type": "stream",
     "text": [
      "Circuit\n",
      "0: ───@───\n",
      "      │\n",
      "1: ───X───\n"
     ]
    }
   ],
   "source": [
    "# pick qubits\n",
    "qubit0 = cirq.LineQubit(0) # position 0\n",
    "qubit1 = cirq.LineQubit(1) # position 1\n",
    "\n",
    "circuit = cirq.Circuit()\n",
    "circuit.append(cirq.CNOT(control=qubit0, target=qubit1))\n",
    "\n",
    "print(\"Circuit\")\n",
    "print(circuit)"
   ]
  },
  {
   "cell_type": "markdown",
   "metadata": {},
   "source": [
    "## Hadamard"
   ]
  },
  {
   "cell_type": "code",
   "execution_count": 5,
   "metadata": {},
   "outputs": [
    {
     "name": "stdout",
     "output_type": "stream",
     "text": [
      "Circuit\n",
      "0: ───H───M───\n",
      "Result\n",
      "0=1011110000111000110111110100110010100000001110001101011000111100010101001110001010110111000100000011110001010111100011010101000001010011110111111010011110101111110111110111100101100111011011000010001100010011000100111100011111100100000110100010111100110111111011101101000111010011100011111011001010000001100011011001111011110110101101100101111011000110011000010101110111111110111111011000011011000110101100011101001101010101110110010100101100110011111001011000101010001001110111011100110010110111000011100000011110100011111111011000001110110101100111101001010100110101001000111011000101011010100001001100111010011101101100000010101101110111101101011000101100000100100111011101000000101100110011111110101010101101011110001110111001010101111100110010011010011001100011100110010111100011010001101001001001100111010011001000000010010111001010100100101000101101000011100101010101100110100110010101000100110100011111100010010101010101111101100101001111011010101010111100111111000101000010011001111001001010\n"
     ]
    },
    {
     "data": {
      "image/png": "[encoded data removed]",
      "text/plain": [
       "<Figure size 432x288 with 1 Axes>"
      ]
     },
     "metadata": {
      "needs_background": "light"
     },
     "output_type": "display_data"
    },
    {
     "data": {
      "text/plain": [
       "array([473., 527.])"
      ]
     },
     "execution_count": 5,
     "metadata": {},
     "output_type": "execute_result"
    }
   ],
   "source": [
    "# pick a qubit\n",
    "qubit = cirq.LineQubit(0) # position 0\n",
    "\n",
    "# create a circuit with HADAMARD\n",
    "circuit = cirq.Circuit(\n",
    "    cirq.H(qubit),\n",
    "    cirq.measure(qubit)\n",
    ")\n",
    "\n",
    "print(\"Circuit\")\n",
    "print(circuit)\n",
    "\n",
    "# simulate\n",
    "simulator = cirq.Simulator()\n",
    "result = simulator.run(circuit, repetitions=1000)\n",
    "\n",
    "print(\"Result\")\n",
    "print(result)\n",
    "\n",
    "cirq.plot_state_histogram(result)"
   ]
  },
  {
   "cell_type": "markdown",
   "metadata": {},
   "source": [
    "# Deutsch Algorithm"
   ]
  },
  {
   "cell_type": "markdown",
   "metadata": {},
   "source": [
    "#### Structure of Circuits in Cirq\n",
    "- **Circuit:** Collection of Moments\n",
    "- **Moment:** Collection of Operations at a specific \"time\"\n",
    "- **Operation:** Effect that operates on a specific subset of qubits"
   ]
  },
  {
   "cell_type": "code",
   "execution_count": 6,
   "metadata": {},
   "outputs": [
    {
     "name": "stdout",
     "output_type": "stream",
     "text": [
      "Circuit\n",
      "0: ───────H───@───H───M───\n",
      "              │\n",
      "1: ───X───H───X───H───M───\n"
     ]
    }
   ],
   "source": [
    "# 2 qubits\n",
    "qubit0 = cirq.LineQubit(0)\n",
    "qubit1 = cirq.LineQubit(1)\n",
    "\n",
    "def get_oracle_gate(oracle):\n",
    "    rnd = np.random.randint(2)\n",
    "    # if oracle is constant\n",
    "    if oracle == \"c\":\n",
    "        if rnd == 1:\n",
    "            return [cirq.I(qubit0), cirq.X(qubit1)]\n",
    "        else:\n",
    "            return [cirq.I(qubit0), cirq.I(qubit1)]\n",
    "    # if oracle is balanced\n",
    "    else:\n",
    "        if rnd == 1:\n",
    "            return [cirq.CNOT(control=qubit0, target=qubit1), cirq.X(qubit1)]\n",
    "        else:\n",
    "            return cirq.CNOT(control=qubit0, target=qubit1)\n",
    "\n",
    "# moments\n",
    "moment_h_all = cirq.Moment( [cirq.H(qubit0), cirq.H(qubit1)] )\n",
    "moment_m_all = cirq.Moment( [cirq.measure(qubit0), cirq.measure(qubit1)] )\n",
    "\n",
    "# circuit\n",
    "circuit = cirq.Circuit()\n",
    "circuit.append(cirq.X(qubit1))\n",
    "circuit.append(moment_h_all)\n",
    "\n",
    "circuit.append(get_oracle_gate(\"b\")) # insert oracle gate\n",
    "#circuit.append(get_oracle_gate(\"c\"))\n",
    "\n",
    "circuit.append(moment_h_all)\n",
    "circuit.append(moment_m_all)\n",
    "\n",
    "#circuit.append(cirq.H(qubit0))\n",
    "#circuit.append(cirq.measure(qubit0))\n",
    "\n",
    "print(\"Circuit\")\n",
    "print(circuit)"
   ]
  },
  {
   "cell_type": "code",
   "execution_count": 7,
   "metadata": {},
   "outputs": [
    {
     "data": {
      "image/png": "[encoded data removed]",
      "text/plain": [
       "<Figure size 432x288 with 1 Axes>"
      ]
     },
     "metadata": {
      "needs_background": "light"
     },
     "output_type": "display_data"
    },
    {
     "data": {
      "text/plain": [
       "array([   0.,    0.,    0., 1000.])"
      ]
     },
     "execution_count": 7,
     "metadata": {},
     "output_type": "execute_result"
    }
   ],
   "source": [
    "# simulate\n",
    "simulator = cirq.Simulator()\n",
    "result = simulator.run(circuit, repetitions=1000)\n",
    "\n",
    "cirq.plot_state_histogram(result)"
   ]
  },
  {
   "cell_type": "markdown",
   "metadata": {},
   "source": [
    "# Deutsch-Josza Algorithm"
   ]
  },
  {
   "cell_type": "code",
   "execution_count": 8,
   "metadata": {},
   "outputs": [],
   "source": [
    "# n qubits\n",
    "n_qubits = 5\n",
    "\n",
    "# pick up qubits\n",
    "qubits = [cirq.LineQubit(x) for x in range(n_qubits+1)]\n",
    "\n",
    "# oracle gate\n",
    "def get_oracle_gate(oracle):\n",
    "    rnd = np.random.randint(2)\n",
    "    # if oracle is constant\n",
    "    if oracle == \"c\":\n",
    "        if rnd == 1:\n",
    "            gate = [cirq.I(qubit) for qubit in qubits[:-1]]\n",
    "            gate.append(cirq.X(qubits[n_qubits]))\n",
    "            return gate\n",
    "        else:\n",
    "            return [cirq.I(qubit) for qubit in qubits]\n",
    "    # if oracle is balanced\n",
    "    else:\n",
    "        if rnd == 1:\n",
    "            gate = [cirq.CNOT(control=qubit, target=qubits[n_qubits]) for qubit in qubits[:-1]]\n",
    "            gate.append(cirq.X(qubits[n_qubits]))\n",
    "            return gate\n",
    "        else:\n",
    "            return [cirq.CNOT(control=qubit, target=qubits[n_qubits]) for qubit in qubits[:-1]]\n",
    "\n",
    "# gates\n",
    "gate_x_last = cirq.X(qubits[n_qubits])\n",
    "gate_h_all = [cirq.H(qubit) for qubit in qubits]\n",
    "gate_m_all = [cirq.measure(qubit) for qubit in qubits]\n",
    "gate_h_all_ex_last = [cirq.H(qubit) for qubit in qubits[:-1]]\n",
    "gate_m_all_ex_last = [cirq.measure(qubit) for qubit in qubits[:-1]]"
   ]
  },
  {
   "cell_type": "code",
   "execution_count": 9,
   "metadata": {},
   "outputs": [],
   "source": [
    "# moments\n",
    "moment_x_last = cirq.Moment([gate_x_last])\n",
    "moment_h_all = cirq.Moment(gate_h_all)\n",
    "moment_m_all = cirq.Moment(gate_m_all)\n",
    "moment_h_all_ex_last = cirq.Moment(gate_h_all_ex_last)\n",
    "moment_m_all_ex_last = cirq.Moment(gate_m_all_ex_last)"
   ]
  },
  {
   "cell_type": "code",
   "execution_count": 12,
   "metadata": {},
   "outputs": [
    {
     "name": "stdout",
     "output_type": "stream",
     "text": [
      "Circuit\n",
      "0: ───────H───@───────────────────────H───M───\n",
      "              │\n",
      "1: ───────H───┼───@───────────────────H───M───\n",
      "              │   │\n",
      "2: ───────H───┼───┼───@───────────────H───M───\n",
      "              │   │   │\n",
      "3: ───────H───┼───┼───┼───@───────────H───M───\n",
      "              │   │   │   │\n",
      "4: ───────H───┼───┼───┼───┼───@───────H───M───\n",
      "              │   │   │   │   │\n",
      "5: ───X───H───X───X───X───X───X───X───────────\n"
     ]
    }
   ],
   "source": [
    "# circuit\n",
    "circuit = cirq.Circuit()\n",
    "circuit.append(moment_x_last)\n",
    "circuit.append(moment_h_all)\n",
    "\n",
    "circuit.append(get_oracle_gate(\"b\"))\n",
    "\n",
    "circuit.append(moment_h_all_ex_last)\n",
    "circuit.append(moment_m_all_ex_last)\n",
    "\n",
    "print(\"Circuit\")\n",
    "print(circuit)"
   ]
  },
  {
   "cell_type": "code",
   "execution_count": 13,
   "metadata": {},
   "outputs": [
    {
     "data": {
      "image/png": "[encoded data removed]",
      "text/plain": [
       "<Figure size 432x288 with 1 Axes>"
      ]
     },
     "metadata": {
      "needs_background": "light"
     },
     "output_type": "display_data"
    },
    {
     "data": {
      "text/plain": [
       "array([   0.,    0.,    0.,    0.,    0.,    0.,    0.,    0.,    0.,\n",
       "          0.,    0.,    0.,    0.,    0.,    0.,    0.,    0.,    0.,\n",
       "          0.,    0.,    0.,    0.,    0.,    0.,    0.,    0.,    0.,\n",
       "          0.,    0.,    0.,    0., 1000.])"
      ]
     },
     "execution_count": 13,
     "metadata": {},
     "output_type": "execute_result"
    }
   ],
   "source": [
    "# simulate\n",
    "simulator = cirq.Simulator()\n",
    "result = simulator.run(circuit, repetitions=1000)\n",
    "\n",
    "cirq.plot_state_histogram(result)"
   ]
  }
 ],
 "metadata": {
  "kernelspec": {
   "display_name": "Python 3",
   "language": "python",
   "name": "python3"
  },
  "language_info": {
   "codemirror_mode": {
    "name": "ipython",
    "version": 3
   },
   "file_extension": ".py",
   "mimetype": "text/x-python",
   "name": "python",
   "nbconvert_exporter": "python",
   "pygments_lexer": "ipython3",
   "version": "3.7.5"
  }
 },
 "nbformat": 4,
 "nbformat_minor": 4
}
