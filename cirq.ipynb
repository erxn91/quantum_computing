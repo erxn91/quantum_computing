{
 "cells": [
  {
   "cell_type": "markdown",
   "metadata": {},
   "source": [
    "# Cirq\n",
    "\n",
    "## Installation\n",
    "\n",
    "``pip install cirq``\n",
    "\n",
    "## Funktionstest"
   ]
  },
  {
   "cell_type": "code",
   "execution_count": 82,
   "metadata": {},
   "outputs": [
    {
     "name": "stdout",
     "output_type": "stream",
     "text": [
      "(0, 0)───(0, 1)───(0, 2)───(0, 3)───(0, 4)───(0, 5)───(0, 6)───(0, 7)───(0, 8)───(0, 9)───(0, 10)\n",
      "│        │        │        │        │        │        │        │        │        │        │\n",
      "│        │        │        │        │        │        │        │        │        │        │\n",
      "(1, 0)───(1, 1)───(1, 2)───(1, 3)───(1, 4)───(1, 5)───(1, 6)───(1, 7)───(1, 8)───(1, 9)───(1, 10)\n"
     ]
    }
   ],
   "source": [
    "import cirq\n",
    "import math\n",
    "import numpy as np\n",
    "\n",
    "print(cirq.google.Foxtail)"
   ]
  },
  {
   "cell_type": "markdown",
   "metadata": {},
   "source": [
    "## Hello Qubit"
   ]
  },
  {
   "cell_type": "code",
   "execution_count": 83,
   "metadata": {},
   "outputs": [
    {
     "name": "stdout",
     "output_type": "stream",
     "text": [
      "Circuit\n",
      "0: ───M───\n"
     ]
    }
   ],
   "source": [
    "# pick a qubit\n",
    "qubit = cirq.LineQubit(0) # position 0\n",
    "\n",
    "# create a circuit\n",
    "circuit = cirq.Circuit()\n",
    "circuit.append(cirq.measure(qubit))\n",
    "\n",
    "print(\"Circuit\")\n",
    "print(circuit)"
   ]
  },
  {
   "cell_type": "markdown",
   "metadata": {},
   "source": [
    "# NOT"
   ]
  },
  {
   "cell_type": "code",
   "execution_count": 84,
   "metadata": {},
   "outputs": [
    {
     "name": "stdout",
     "output_type": "stream",
     "text": [
      "Circuit\n",
      "0: ───X───M───\n"
     ]
    }
   ],
   "source": [
    "# pick a qubit\n",
    "qubit = cirq.LineQubit(0) # position 0\n",
    "\n",
    "# create a circuit\n",
    "circuit = cirq.Circuit()\n",
    "circuit.append(cirq.X(qubit))\n",
    "circuit.append(cirq.measure(qubit))\n",
    "\n",
    "print(\"Circuit\")\n",
    "print(circuit)"
   ]
  },
  {
   "cell_type": "markdown",
   "metadata": {},
   "source": [
    "# CNOT"
   ]
  },
  {
   "cell_type": "code",
   "execution_count": 85,
   "metadata": {},
   "outputs": [
    {
     "name": "stdout",
     "output_type": "stream",
     "text": [
      "Circuit\n",
      "0: ───@───────\n",
      "      │\n",
      "1: ───X───M───\n"
     ]
    }
   ],
   "source": [
    "# pick qubits\n",
    "qubit0 = cirq.LineQubit(0) # position 0\n",
    "qubit1 = cirq.LineQubit(1) # position 1\n",
    "\n",
    "circuit = cirq.Circuit()\n",
    "circuit.append(cirq.CNOT(control=qubit0, target=qubit1))\n",
    "circuit.append(cirq.measure(qubit1))\n",
    "\n",
    "print(\"Circuit\")\n",
    "print(circuit)"
   ]
  },
  {
   "cell_type": "markdown",
   "metadata": {},
   "source": [
    "## Hadamard"
   ]
  },
  {
   "cell_type": "code",
   "execution_count": 86,
   "metadata": {},
   "outputs": [
    {
     "name": "stdout",
     "output_type": "stream",
     "text": [
      "Circuit\n",
      "0: ───H───M───\n",
      "Result\n",
      "0=0011001101101101010010001010000011001000010101111010100110001101101011100110110100000000000110001111110000110010010011001010001111100101110010000101000001001110011000000100101100100111000010100001100110011001001100101010011111111111101111111000000011111101011111101100000111000101000101000000000100000101100111100011100011101111110110101001111011010000000110000010110110010011010111111111110000010000010101011011111000100000110001011010111101010010001000010100011000100110101001110111100100101011101100001010111100111000000101101011010100100000110110101100011100010110011011000100001110011001010110011010000001101010001011100101000000000101011000111101010110000110011000101111011111010011110011101101001111110110001010111011010111011100100010011110100111010000001100011011011111101010001100101001011001100111100101110100100000011100100100000011100010000111110111100101111011110101010100111100000111000111101110000001100000000000100101100100011110000011010100010011000001110101101110000000100110000100\n"
     ]
    },
    {
     "data": {
      "image/png": "[encoded data removed]",
      "text/plain": [
       "<Figure size 432x288 with 1 Axes>"
      ]
     },
     "metadata": {
      "needs_background": "light"
     },
     "output_type": "display_data"
    },
    {
     "data": {
      "text/plain": [
       "array([524., 476.])"
      ]
     },
     "execution_count": 86,
     "metadata": {},
     "output_type": "execute_result"
    }
   ],
   "source": [
    "# pick a qubit\n",
    "qubit = cirq.LineQubit(0) # position 0\n",
    "\n",
    "# create a circuit with HADAMARD\n",
    "circuit = cirq.Circuit(\n",
    "    cirq.H(qubit),\n",
    "    cirq.measure(qubit)\n",
    ")\n",
    "\n",
    "print(\"Circuit\")\n",
    "print(circuit)\n",
    "\n",
    "# simulate\n",
    "simulator = cirq.Simulator()\n",
    "result = simulator.run(circuit, repetitions=1000)\n",
    "\n",
    "print(\"Result\")\n",
    "print(result)\n",
    "\n",
    "cirq.plot_state_histogram(result)"
   ]
  },
  {
   "cell_type": "markdown",
   "metadata": {},
   "source": [
    "# Deutsch Algorithm"
   ]
  },
  {
   "cell_type": "markdown",
   "metadata": {},
   "source": [
    "#### Structure of Circuits in Cirq\n",
    "- **Circuit:** Collection of Moments\n",
    "- **Moment:** Collection of Operations at a specific time\n",
    "- **Operation:** Effect that operates on a specific subset of qubits"
   ]
  },
  {
   "cell_type": "code",
   "execution_count": 363,
   "metadata": {},
   "outputs": [
    {
     "name": "stdout",
     "output_type": "stream",
     "text": [
      "Circuit\n",
      "0: ───────H───I───H───M───\n",
      "\n",
      "1: ───X───H───X───H───M───\n"
     ]
    }
   ],
   "source": [
    "# 2 qubits\n",
    "qubit0 = cirq.LineQubit(0)\n",
    "qubit1 = cirq.LineQubit(1)\n",
    "\n",
    "def get_oracle_gate(oracle):\n",
    "    # if oracle is constant\n",
    "    if oracle == \"c\":\n",
    "        c = np.random.randint(2)\n",
    "        if c == 1:\n",
    "            return [cirq.I(qubit0), cirq.X(qubit1)]\n",
    "        else:\n",
    "            return [cirq.I(qubit0), cirq.I(qubit1)]\n",
    "    # if oracle is balanced\n",
    "    else:\n",
    "        return cirq.CNOT(control=qubit0, target=qubit1)\n",
    "\n",
    "# moments\n",
    "moment_h_all = cirq.Moment( [cirq.H(qubit0), cirq.H(qubit1)] )\n",
    "moment_m_all = cirq.Moment( [cirq.measure(qubit0), cirq.measure(qubit1)] )\n",
    "\n",
    "# circuit\n",
    "circuit = cirq.Circuit()\n",
    "circuit.append(cirq.X(qubit1))\n",
    "circuit.append(moment_h_all)\n",
    "\n",
    "circuit.append(get_oracle_gate(\"c\")) # insert oracle gate\n",
    "\n",
    "circuit.append(moment_h_all)\n",
    "circuit.append(moment_m_all)\n",
    "\n",
    "#circuit.append(cirq.H(qubit0))\n",
    "#circuit.append(cirq.measure(qubit0))\n",
    "\n",
    "print(\"Circuit\")\n",
    "print(circuit)"
   ]
  },
  {
   "cell_type": "code",
   "execution_count": 364,
   "metadata": {},
   "outputs": [
    {
     "data": {
      "image/png": "[encoded data removed]",
      "text/plain": [
       "<Figure size 432x288 with 1 Axes>"
      ]
     },
     "metadata": {
      "needs_background": "light"
     },
     "output_type": "display_data"
    },
    {
     "data": {
      "text/plain": [
       "array([   0., 1000.,    0.,    0.])"
      ]
     },
     "execution_count": 364,
     "metadata": {},
     "output_type": "execute_result"
    }
   ],
   "source": [
    "# simulate\n",
    "simulator = cirq.Simulator()\n",
    "result = simulator.run(circuit, repetitions=1000)\n",
    "\n",
    "cirq.plot_state_histogram(result)"
   ]
  },
  {
   "cell_type": "markdown",
   "metadata": {},
   "source": [
    "# Deutsch-Josza Algorithm"
   ]
  },
  {
   "cell_type": "code",
   "execution_count": 294,
   "metadata": {},
   "outputs": [],
   "source": [
    "# n qubits\n",
    "n_qubits = 1\n",
    "\n",
    "# pick up qubits\n",
    "qubits = [cirq.LineQubit(x) for x in range(n_qubits+1)]\n",
    "\n",
    "# gates\n",
    "gate_x_last = cirq.X(qubits[n_qubits])\n",
    "gate_h_all = [cirq.H(qubit) for qubit in qubits]\n",
    "gate_m_all = [cirq.measure(qubit) for qubit in qubits]\n",
    "gate_h_all_ex_last = [cirq.H(qubit) for qubit in qubits[:-1]]\n",
    "gate_m_all_ex_last = [cirq.measure(qubit) for qubit in qubits[:-1]]\n",
    "\n",
    "# oracle gates\n",
    "gate_oracle_const_0 = [cirq.I(qubit) for qubit in qubits]\n",
    "gate_oracle_const_1 = [cirq.I(qubits[0]), cirq.X(qubits[1])]\n",
    "\n",
    "gate_oracle_balanced_00_11 = [cirq.CNOT(control=qubit, target=qubits[n_qubits]) for qubit in qubits[:-1]]\n",
    "gate_oracle_balanced_01_10 = [cirq.CNOT(control=qubit, target=qubits[n_qubits]) for qubit in qubits[:-1]]\n",
    "gate_oracle_balanced_01_10.append(cirq.X(qubits[1]))"
   ]
  },
  {
   "cell_type": "code",
   "execution_count": 299,
   "metadata": {},
   "outputs": [],
   "source": [
    "# oracle function. implements one of the four functions\n",
    "# balanced -> [f(0) = 0, f(1) = 1] [f(0) = 1, f(1) = 0]\n",
    "# constant -> [f(0) = 0, f(1) = 0] [f(0) = 1, f(1) = 1]\n",
    "\n",
    "# set the oracle, b for balanced, c for constant\n",
    "oracle = \"b\"\n",
    "\n",
    "# if the oracle is balanced, set the hidden bitstring, b\n",
    "if oracle == \"b\":\n",
    "    b = 3 # np.random.randint(1,2**n) uncomment for a random value\n",
    "\n",
    "# if the oracle is constant, set c = 0 or 1 randomly.\n",
    "if oracle == \"c\":\n",
    "    c = np.random.randint(2)\n",
    "    print(\"Constant\", c)\n",
    "    \n",
    "# Query the oracle \n",
    "if oracle == \"c\": # if the oracle is constant, return c\n",
    "    if c == 1:\n",
    "        gate_oracle = gate_oracle_const_1\n",
    "    else:\n",
    "        gate_oracle = gate_oracle_const_0\n",
    "else: # otherwise, the oracle is balanced and it returns the inner product of the input with b (non-zero bitstring) \n",
    "    gate_oracle = gate_oracle_balanced_01_10"
   ]
  },
  {
   "cell_type": "code",
   "execution_count": 300,
   "metadata": {},
   "outputs": [],
   "source": [
    "# moments\n",
    "moment_x_last = cirq.Moment([gate_x_last])\n",
    "moment_h_all = cirq.Moment(gate_h_all)\n",
    "moment_m_all = cirq.Moment(gate_m_all)\n",
    "moment_h_all_ex_last = cirq.Moment(gate_h_all_ex_last)\n",
    "moment_m_all_ex_last = cirq.Moment(gate_m_all_ex_last)"
   ]
  },
  {
   "cell_type": "code",
   "execution_count": 301,
   "metadata": {},
   "outputs": [
    {
     "name": "stdout",
     "output_type": "stream",
     "text": [
      "Circuit\n",
      "0: ───────H───@───────H───M───\n",
      "              │\n",
      "1: ───X───H───X───X───H───M───\n"
     ]
    }
   ],
   "source": [
    "# circuit\n",
    "circuit = cirq.Circuit()\n",
    "circuit.append(moment_x_last)\n",
    "circuit.append(moment_h_all)\n",
    "\n",
    "circuit.append(gate_oracle)\n",
    "\n",
    "circuit.append(moment_h_all)\n",
    "circuit.append(moment_m_all)\n",
    "\n",
    "print(\"Circuit\")\n",
    "print(circuit)"
   ]
  },
  {
   "cell_type": "code",
   "execution_count": 312,
   "metadata": {},
   "outputs": [
    {
     "data": {
      "image/png": "[encoded data removed]",
      "text/plain": [
       "<Figure size 432x288 with 1 Axes>"
      ]
     },
     "metadata": {
      "needs_background": "light"
     },
     "output_type": "display_data"
    },
    {
     "data": {
      "text/plain": [
       "array([1000.,    0.])"
      ]
     },
     "execution_count": 312,
     "metadata": {},
     "output_type": "execute_result"
    }
   ],
   "source": [
    "# simulate\n",
    "simulator = cirq.Simulator()\n",
    "result = simulator.run(circuit, repetitions=1000)\n",
    "\n",
    "cirq.plot_state_histogram(result)"
   ]
  }
 ],
 "metadata": {
  "kernelspec": {
   "display_name": "Python 3",
   "language": "python",
   "name": "python3"
  },
  "language_info": {
   "codemirror_mode": {
    "name": "ipython",
    "version": 3
   },
   "file_extension": ".py",
   "mimetype": "text/x-python",
   "name": "python",
   "nbconvert_exporter": "python",
   "pygments_lexer": "ipython3",
   "version": "3.7.5"
  }
 },
 "nbformat": 4,
 "nbformat_minor": 4
}
