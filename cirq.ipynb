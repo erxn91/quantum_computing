{
 "cells": [
  {
   "cell_type": "markdown",
   "metadata": {},
   "source": [
    "# Cirq\n",
    "\n",
    "## Installation\n",
    "\n",
    "``pip install cirq``\n",
    "\n",
    "## Import"
   ]
  },
  {
   "cell_type": "code",
   "execution_count": 144,
   "metadata": {},
   "outputs": [],
   "source": [
    "import cirq\n",
    "import math\n",
    "import numpy as np"
   ]
  },
  {
   "cell_type": "markdown",
   "metadata": {},
   "source": [
    "## Hello Qubit"
   ]
  },
  {
   "cell_type": "code",
   "execution_count": 3,
   "metadata": {},
   "outputs": [
    {
     "name": "stdout",
     "output_type": "stream",
     "text": [
      "Circuit\n",
      "0: ───M───\n"
     ]
    }
   ],
   "source": [
    "# pick a qubit\n",
    "qubit = cirq.LineQubit(0) # position 0\n",
    "\n",
    "# create a circuit\n",
    "circuit = cirq.Circuit()\n",
    "circuit.append(cirq.measure(qubit))\n",
    "\n",
    "print(\"Circuit\")\n",
    "print(circuit)"
   ]
  },
  {
   "cell_type": "markdown",
   "metadata": {},
   "source": [
    "# NOT"
   ]
  },
  {
   "cell_type": "code",
   "execution_count": 4,
   "metadata": {},
   "outputs": [
    {
     "name": "stdout",
     "output_type": "stream",
     "text": [
      "Circuit\n",
      "0: ───X───M───\n"
     ]
    }
   ],
   "source": [
    "# pick a qubit\n",
    "qubit = cirq.LineQubit(0) # position 0\n",
    "\n",
    "# create a circuit\n",
    "circuit = cirq.Circuit()\n",
    "circuit.append(cirq.X(qubit))\n",
    "circuit.append(cirq.measure(qubit))\n",
    "\n",
    "print(\"Circuit\")\n",
    "print(circuit)"
   ]
  },
  {
   "cell_type": "markdown",
   "metadata": {},
   "source": [
    "# CNOT"
   ]
  },
  {
   "cell_type": "code",
   "execution_count": 5,
   "metadata": {},
   "outputs": [
    {
     "name": "stdout",
     "output_type": "stream",
     "text": [
      "Circuit\n",
      "0: ───@───────\n",
      "      │\n",
      "1: ───X───M───\n"
     ]
    }
   ],
   "source": [
    "# pick qubits\n",
    "qubit0 = cirq.LineQubit(0) # position 0\n",
    "qubit1 = cirq.LineQubit(1) # position 1\n",
    "\n",
    "circuit = cirq.Circuit()\n",
    "circuit.append(cirq.CNOT(control=qubit0, target=qubit1))\n",
    "circuit.append(cirq.measure(qubit1))\n",
    "\n",
    "print(\"Circuit\")\n",
    "print(circuit)"
   ]
  },
  {
   "cell_type": "markdown",
   "metadata": {},
   "source": [
    "## Hadamard"
   ]
  },
  {
   "cell_type": "code",
   "execution_count": 6,
   "metadata": {},
   "outputs": [
    {
     "name": "stdout",
     "output_type": "stream",
     "text": [
      "Circuit\n",
      "0: ───H───M───\n",
      "Result\n",
      "0=0100000100000110100111001010010011111111101101111100100100110110000000110101101010110111000011010101110011001001100010110010000011111110010010101000001011110101101001111000011111111110110001100100000101011101000100011010101000110111000111110101111001000000011001010010111111001100011010000110110110100110110111110110010010100010100101111001111110100011111111101010011111111111101010101110111011001000100011100110110101100111101110110011000011110101001001110100011101110101100001001011111010101010001011101001110011001010110001100111111011011001011001000111011100111100110110111110001100100001110100100001000010000001000000001011000100100011011010111010111011101001001000000111010000101101010010100100010111011111111000100011111111010100101000101000010010101010100111000010010000011000101010001110000110011010110100001110110000111110001000110001100000010010010111110101101000000000001100000111010110011000000101111100011010001001011100101111110000100101011101111110110111110111000110010010000110111100\n"
     ]
    },
    {
     "data": {
      "image/png": "[encoded data removed]",
      "text/plain": [
       "<Figure size 432x288 with 1 Axes>"
      ]
     },
     "metadata": {
      "needs_background": "light"
     },
     "output_type": "display_data"
    },
    {
     "data": {
      "text/plain": [
       "array([494., 506.])"
      ]
     },
     "execution_count": 6,
     "metadata": {},
     "output_type": "execute_result"
    }
   ],
   "source": [
    "# pick a qubit\n",
    "qubit = cirq.LineQubit(0) # position 0\n",
    "\n",
    "# create a circuit with HADAMARD\n",
    "circuit = cirq.Circuit(\n",
    "    cirq.H(qubit),\n",
    "    cirq.measure(qubit)\n",
    ")\n",
    "\n",
    "print(\"Circuit\")\n",
    "print(circuit)\n",
    "\n",
    "# simulate\n",
    "simulator = cirq.Simulator()\n",
    "result = simulator.run(circuit, repetitions=1000)\n",
    "\n",
    "print(\"Result\")\n",
    "print(result)\n",
    "\n",
    "cirq.plot_state_histogram(result)"
   ]
  },
  {
   "cell_type": "markdown",
   "metadata": {},
   "source": [
    "# Deutsch Algorithm"
   ]
  },
  {
   "cell_type": "markdown",
   "metadata": {},
   "source": [
    "#### Structure of Circuits in Cirq\n",
    "- **Circuit:** Collection of Moments\n",
    "- **Moment:** Collection of Operations at a specific \"time\"\n",
    "- **Operation:** Effect that operates on a specific subset of qubits"
   ]
  },
  {
   "cell_type": "code",
   "execution_count": 87,
   "metadata": {},
   "outputs": [
    {
     "name": "stdout",
     "output_type": "stream",
     "text": [
      "Circuit\n",
      "0: ───────H───@───────H───M───\n",
      "              │\n",
      "1: ───X───H───X───X───H───M───\n"
     ]
    }
   ],
   "source": [
    "# 2 qubits\n",
    "qubit0 = cirq.LineQubit(0)\n",
    "qubit1 = cirq.LineQubit(1)\n",
    "\n",
    "def get_oracle_gate(oracle):\n",
    "    rnd = np.random.randint(2)\n",
    "    # if oracle is constant\n",
    "    if oracle == \"c\":\n",
    "        if rnd == 1:\n",
    "            return [cirq.I(qubit0), cirq.X(qubit1)]\n",
    "        else:\n",
    "            return [cirq.I(qubit0), cirq.I(qubit1)]\n",
    "    # if oracle is balanced\n",
    "    else:\n",
    "        if rnd == 1:\n",
    "            return [cirq.CNOT(control=qubit0, target=qubit1), cirq.X(qubit1)]\n",
    "        else:\n",
    "            return cirq.CNOT(control=qubit0, target=qubit1)\n",
    "\n",
    "# moments\n",
    "moment_h_all = cirq.Moment( [cirq.H(qubit0), cirq.H(qubit1)] )\n",
    "moment_m_all = cirq.Moment( [cirq.measure(qubit0), cirq.measure(qubit1)] )\n",
    "\n",
    "# circuit\n",
    "circuit = cirq.Circuit()\n",
    "circuit.append(cirq.X(qubit1))\n",
    "circuit.append(moment_h_all)\n",
    "\n",
    "circuit.append(get_oracle_gate(\"b\")) # insert oracle gate\n",
    "#circuit.append(get_oracle_gate(\"c\"))\n",
    "\n",
    "circuit.append(moment_h_all)\n",
    "circuit.append(moment_m_all)\n",
    "\n",
    "#circuit.append(cirq.H(qubit0))\n",
    "#circuit.append(cirq.measure(qubit0))\n",
    "\n",
    "print(\"Circuit\")\n",
    "print(circuit)"
   ]
  },
  {
   "cell_type": "code",
   "execution_count": 88,
   "metadata": {},
   "outputs": [
    {
     "data": {
      "image/png": "[encoded data removed]",
      "text/plain": [
       "<Figure size 432x288 with 1 Axes>"
      ]
     },
     "metadata": {
      "needs_background": "light"
     },
     "output_type": "display_data"
    },
    {
     "data": {
      "text/plain": [
       "array([   0.,    0.,    0., 1000.])"
      ]
     },
     "execution_count": 88,
     "metadata": {},
     "output_type": "execute_result"
    }
   ],
   "source": [
    "# simulate\n",
    "simulator = cirq.Simulator()\n",
    "result = simulator.run(circuit, repetitions=1000)\n",
    "\n",
    "cirq.plot_state_histogram(result)"
   ]
  },
  {
   "cell_type": "markdown",
   "metadata": {},
   "source": [
    "# Deutsch-Josza Algorithm"
   ]
  },
  {
   "cell_type": "code",
   "execution_count": 127,
   "metadata": {},
   "outputs": [],
   "source": [
    "# n qubits\n",
    "n_qubits = 5\n",
    "\n",
    "# pick up qubits\n",
    "qubits = [cirq.LineQubit(x) for x in range(n_qubits+1)]\n",
    "\n",
    "# oracle gate\n",
    "def get_oracle_gate(oracle):\n",
    "    rnd = np.random.randint(2)\n",
    "    # if oracle is constant\n",
    "    if oracle == \"c\":\n",
    "        if rnd == 1:\n",
    "            gate = [cirq.I(qubit) for qubit in qubits[:-1]]\n",
    "            gate.append(cirq.X(qubits[n_qubits]))\n",
    "            return gate\n",
    "        else:\n",
    "            return [cirq.I(qubit) for qubit in qubits]\n",
    "    # if oracle is balanced\n",
    "    else:\n",
    "        if rnd == 1:\n",
    "            gate = [cirq.CNOT(control=qubit, target=qubits[n_qubits]) for qubit in qubits[:-1]]\n",
    "            gate.append(cirq.X(qubits[n_qubits]))\n",
    "            return gate\n",
    "        else:\n",
    "            return [cirq.CNOT(control=qubit, target=qubits[n_qubits]) for qubit in qubits[:-1]]\n",
    "\n",
    "# gates\n",
    "gate_x_last = cirq.X(qubits[n_qubits])\n",
    "gate_h_all = [cirq.H(qubit) for qubit in qubits]\n",
    "gate_m_all = [cirq.measure(qubit) for qubit in qubits]\n",
    "gate_h_all_ex_last = [cirq.H(qubit) for qubit in qubits[:-1]]\n",
    "gate_m_all_ex_last = [cirq.measure(qubit) for qubit in qubits[:-1]]"
   ]
  },
  {
   "cell_type": "code",
   "execution_count": 128,
   "metadata": {},
   "outputs": [],
   "source": [
    "# moments\n",
    "moment_x_last = cirq.Moment([gate_x_last])\n",
    "moment_h_all = cirq.Moment(gate_h_all)\n",
    "moment_m_all = cirq.Moment(gate_m_all)\n",
    "moment_h_all_ex_last = cirq.Moment(gate_h_all_ex_last)\n",
    "moment_m_all_ex_last = cirq.Moment(gate_m_all_ex_last)"
   ]
  },
  {
   "cell_type": "code",
   "execution_count": 142,
   "metadata": {},
   "outputs": [
    {
     "name": "stdout",
     "output_type": "stream",
     "text": [
      "Circuit\n",
      "0: ───────H───@───────────────────H───M───\n",
      "              │\n",
      "1: ───────H───┼───@───────────────H───M───\n",
      "              │   │\n",
      "2: ───────H───┼───┼───@───────────H───M───\n",
      "              │   │   │\n",
      "3: ───────H───┼───┼───┼───@───────H───M───\n",
      "              │   │   │   │\n",
      "4: ───────H───┼───┼───┼───┼───@───H───M───\n",
      "              │   │   │   │   │\n",
      "5: ───X───H───X───X───X───X───X───────────\n"
     ]
    }
   ],
   "source": [
    "# circuit\n",
    "circuit = cirq.Circuit()\n",
    "circuit.append(moment_x_last)\n",
    "circuit.append(moment_h_all)\n",
    "\n",
    "circuit.append(get_oracle_gate(\"b\"))\n",
    "\n",
    "circuit.append(moment_h_all_ex_last)\n",
    "circuit.append(moment_m_all_ex_last)\n",
    "\n",
    "print(\"Circuit\")\n",
    "print(circuit)"
   ]
  },
  {
   "cell_type": "code",
   "execution_count": 143,
   "metadata": {},
   "outputs": [
    {
     "data": {
      "image/png": "[encoded data removed]",
      "text/plain": [
       "<Figure size 432x288 with 1 Axes>"
      ]
     },
     "metadata": {
      "needs_background": "light"
     },
     "output_type": "display_data"
    },
    {
     "data": {
      "text/plain": [
       "array([   0.,    0.,    0.,    0.,    0.,    0.,    0.,    0.,    0.,\n",
       "          0.,    0.,    0.,    0.,    0.,    0.,    0.,    0.,    0.,\n",
       "          0.,    0.,    0.,    0.,    0.,    0.,    0.,    0.,    0.,\n",
       "          0.,    0.,    0.,    0., 1000.])"
      ]
     },
     "execution_count": 143,
     "metadata": {},
     "output_type": "execute_result"
    }
   ],
   "source": [
    "# simulate\n",
    "simulator = cirq.Simulator()\n",
    "result = simulator.run(circuit, repetitions=1000)\n",
    "\n",
    "cirq.plot_state_histogram(result)"
   ]
  }
 ],
 "metadata": {
  "kernelspec": {
   "display_name": "Python 3",
   "language": "python",
   "name": "python3"
  },
  "language_info": {
   "codemirror_mode": {
    "name": "ipython",
    "version": 3
   },
   "file_extension": ".py",
   "mimetype": "text/x-python",
   "name": "python",
   "nbconvert_exporter": "python",
   "pygments_lexer": "ipython3",
   "version": "3.7.5"
  }
 },
 "nbformat": 4,
 "nbformat_minor": 4
}
