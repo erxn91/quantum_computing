{
 "cells": [
  {
   "cell_type": "markdown",
   "metadata": {},
   "source": [
    "# Cirq\n",
    "\n",
    "## Installation\n",
    "\n",
    "``pip install cirq``\n",
    "\n",
    "## Import"
   ]
  },
  {
   "cell_type": "code",
   "execution_count": 1,
   "metadata": {},
   "outputs": [],
   "source": [
    "import cirq\n",
    "import math\n",
    "import numpy as np"
   ]
  },
  {
   "cell_type": "markdown",
   "metadata": {},
   "source": [
    "## Hello Qubit"
   ]
  },
  {
   "cell_type": "code",
   "execution_count": 2,
   "metadata": {},
   "outputs": [
    {
     "name": "stdout",
     "output_type": "stream",
     "text": [
      "Circuit\n",
      "0: ───M───\n"
     ]
    }
   ],
   "source": [
    "# pick a qubit\n",
    "qubit = cirq.LineQubit(0) # position 0\n",
    "\n",
    "# create a circuit\n",
    "circuit = cirq.Circuit()\n",
    "circuit.append(cirq.measure(qubit))\n",
    "\n",
    "print(\"Circuit\")\n",
    "print(circuit)"
   ]
  },
  {
   "cell_type": "markdown",
   "metadata": {},
   "source": [
    "# NOT"
   ]
  },
  {
   "cell_type": "code",
   "execution_count": 3,
   "metadata": {},
   "outputs": [
    {
     "name": "stdout",
     "output_type": "stream",
     "text": [
      "Circuit\n",
      "0: ───X───\n"
     ]
    }
   ],
   "source": [
    "# pick a qubit\n",
    "qubit = cirq.LineQubit(0) # position 0\n",
    "\n",
    "# create a circuit\n",
    "circuit = cirq.Circuit()\n",
    "circuit.append(cirq.X(qubit))\n",
    "\n",
    "print(\"Circuit\")\n",
    "print(circuit)"
   ]
  },
  {
   "cell_type": "markdown",
   "metadata": {},
   "source": [
    "# CNOT"
   ]
  },
  {
   "cell_type": "code",
   "execution_count": 4,
   "metadata": {},
   "outputs": [
    {
     "name": "stdout",
     "output_type": "stream",
     "text": [
      "Circuit\n",
      "0: ───@───\n",
      "      │\n",
      "1: ───X───\n"
     ]
    }
   ],
   "source": [
    "# pick qubits\n",
    "qubit0 = cirq.LineQubit(0) # position 0\n",
    "qubit1 = cirq.LineQubit(1) # position 1\n",
    "\n",
    "circuit = cirq.Circuit()\n",
    "circuit.append(cirq.CNOT(control=qubit0, target=qubit1))\n",
    "\n",
    "print(\"Circuit\")\n",
    "print(circuit)"
   ]
  },
  {
   "cell_type": "markdown",
   "metadata": {},
   "source": [
    "## Hadamard"
   ]
  },
  {
   "cell_type": "code",
   "execution_count": 5,
   "metadata": {},
   "outputs": [
    {
     "name": "stdout",
     "output_type": "stream",
     "text": [
      "Circuit\n",
      "0: ───H───M───\n",
      "Result\n",
      "0=1101000111000011001110000000011100011110010000000111010101000110001111010010001110000010000100110001011000100010001100001000001001100110100100000011010010001000000001111011101001010101010001111100101000010101101010111011010010001000100111001100101101111111010110010110001100010101111111100000001010101001101101110101010001011000100101011101111010010111101011010011010001000100000010010010100100011101000010100110110011110110011011010110011110000011011101110110000000101000101111101101000011100011100111100000101111010000011010111111100010101010100101010011001010000100000110010000111011110111101000001101010101001000100001100011100111001010111000101011000001011010000110110100100000111010001101011011010101010110111100110100010110111101100101110101001000010110100011100010011000111000001011000010110010101101110000000111010000000001100110011101010111111110101100100000011001110101001111011011101010011111010011010010001111000011100111100101001110000000010100100100110000100111100101111000000100101100\n"
     ]
    },
    {
     "data": {
      "image/png": "[encoded data removed]",
      "text/plain": [
       "<Figure size 432x288 with 1 Axes>"
      ]
     },
     "metadata": {
      "needs_background": "light"
     },
     "output_type": "display_data"
    },
    {
     "data": {
      "text/plain": [
       "array([533., 467.])"
      ]
     },
     "execution_count": 5,
     "metadata": {},
     "output_type": "execute_result"
    }
   ],
   "source": [
    "# pick a qubit\n",
    "qubit = cirq.LineQubit(0) # position 0\n",
    "\n",
    "# create a circuit with HADAMARD\n",
    "circuit = cirq.Circuit(\n",
    "    cirq.H(qubit),\n",
    "    cirq.measure(qubit)\n",
    ")\n",
    "\n",
    "print(\"Circuit\")\n",
    "print(circuit)\n",
    "\n",
    "# simulate\n",
    "simulator = cirq.Simulator()\n",
    "result = simulator.run(circuit, repetitions=1000)\n",
    "\n",
    "print(\"Result\")\n",
    "print(result)\n",
    "\n",
    "cirq.plot_state_histogram(result)"
   ]
  },
  {
   "cell_type": "markdown",
   "metadata": {},
   "source": [
    "# Deutsch Algorithm"
   ]
  },
  {
   "cell_type": "markdown",
   "metadata": {},
   "source": [
    "#### Structure of Circuits in Cirq\n",
    "- **Circuit:** Collection of Moments\n",
    "- **Moment:** Collection of Operations at a specific \"time\"\n",
    "- **Operation:** Effect that operates on a specific subset of qubits"
   ]
  },
  {
   "cell_type": "code",
   "execution_count": 6,
   "metadata": {},
   "outputs": [
    {
     "name": "stdout",
     "output_type": "stream",
     "text": [
      "Circuit\n",
      "0: ───────H───@───H───M───\n",
      "              │\n",
      "1: ───X───H───X───H───M───\n"
     ]
    }
   ],
   "source": [
    "# 2 qubits\n",
    "qubit0 = cirq.LineQubit(0)\n",
    "qubit1 = cirq.LineQubit(1)\n",
    "\n",
    "def get_oracle_gate(oracle):\n",
    "    rnd = np.random.randint(2)\n",
    "    # if oracle is constant\n",
    "    if oracle == \"c\":\n",
    "        if rnd == 1:\n",
    "            return [cirq.I(qubit0), cirq.X(qubit1)]\n",
    "        else:\n",
    "            return [cirq.I(qubit0), cirq.I(qubit1)]\n",
    "    # if oracle is balanced\n",
    "    else:\n",
    "        if rnd == 1:\n",
    "            return [cirq.CNOT(control=qubit0, target=qubit1), cirq.X(qubit1)]\n",
    "        else:\n",
    "            return cirq.CNOT(control=qubit0, target=qubit1)\n",
    "\n",
    "# moments\n",
    "moment_h_all = cirq.Moment( [cirq.H(qubit0), cirq.H(qubit1)] )\n",
    "moment_m_all = cirq.Moment( [cirq.measure(qubit0), cirq.measure(qubit1)] )\n",
    "\n",
    "# circuit\n",
    "circuit = cirq.Circuit()\n",
    "circuit.append(cirq.X(qubit1))\n",
    "circuit.append(moment_h_all)\n",
    "\n",
    "circuit.append(get_oracle_gate(\"b\")) # insert oracle gate\n",
    "#circuit.append(get_oracle_gate(\"c\"))\n",
    "\n",
    "circuit.append(moment_h_all)\n",
    "circuit.append(moment_m_all)\n",
    "\n",
    "#circuit.append(cirq.H(qubit0))\n",
    "#circuit.append(cirq.measure(qubit0))\n",
    "\n",
    "print(\"Circuit\")\n",
    "print(circuit)"
   ]
  },
  {
   "cell_type": "code",
   "execution_count": 7,
   "metadata": {},
   "outputs": [
    {
     "data": {
      "image/png": "[encoded data removed]",
      "text/plain": [
       "<Figure size 432x288 with 1 Axes>"
      ]
     },
     "metadata": {
      "needs_background": "light"
     },
     "output_type": "display_data"
    },
    {
     "data": {
      "text/plain": [
       "array([   0.,    0.,    0., 1000.])"
      ]
     },
     "execution_count": 7,
     "metadata": {},
     "output_type": "execute_result"
    }
   ],
   "source": [
    "# simulate\n",
    "simulator = cirq.Simulator()\n",
    "result = simulator.run(circuit, repetitions=1000)\n",
    "\n",
    "cirq.plot_state_histogram(result)"
   ]
  },
  {
   "cell_type": "markdown",
   "metadata": {},
   "source": [
    "# Deutsch-Josza Algorithm"
   ]
  },
  {
   "cell_type": "code",
   "execution_count": 8,
   "metadata": {},
   "outputs": [],
   "source": [
    "# n qubits\n",
    "n_qubits = 5\n",
    "\n",
    "# pick up qubits\n",
    "qubits = [cirq.LineQubit(x) for x in range(n_qubits+1)]\n",
    "\n",
    "# oracle gate\n",
    "def get_oracle_gate(oracle):\n",
    "    rnd = np.random.randint(2)\n",
    "    # if oracle is constant\n",
    "    if oracle == \"c\":\n",
    "        if rnd == 1:\n",
    "            gate = [cirq.I(qubit) for qubit in qubits[:-1]]\n",
    "            gate.append(cirq.X(qubits[n_qubits]))\n",
    "            return gate\n",
    "        else:\n",
    "            return [cirq.I(qubit) for qubit in qubits]\n",
    "    # if oracle is balanced\n",
    "    else:\n",
    "        if rnd == 1:\n",
    "            gate = [cirq.CNOT(control=qubit, target=qubits[n_qubits]) for qubit in qubits[:-1]]\n",
    "            gate.append(cirq.X(qubits[n_qubits]))\n",
    "            return gate\n",
    "        else:\n",
    "            return [cirq.CNOT(control=qubit, target=qubits[n_qubits]) for qubit in qubits[:-1]]\n",
    "\n",
    "# gates\n",
    "gate_x_last = cirq.X(qubits[n_qubits])\n",
    "gate_h_all = [cirq.H(qubit) for qubit in qubits]\n",
    "gate_m_all = [cirq.measure(qubit) for qubit in qubits]\n",
    "gate_h_all_ex_last = [cirq.H(qubit) for qubit in qubits[:-1]]\n",
    "gate_m_all_ex_last = [cirq.measure(qubit) for qubit in qubits[:-1]]"
   ]
  },
  {
   "cell_type": "code",
   "execution_count": 9,
   "metadata": {},
   "outputs": [],
   "source": [
    "# moments\n",
    "moment_x_last = cirq.Moment([gate_x_last])\n",
    "moment_h_all = cirq.Moment(gate_h_all)\n",
    "moment_m_all = cirq.Moment(gate_m_all)\n",
    "moment_h_all_ex_last = cirq.Moment(gate_h_all_ex_last)\n",
    "moment_m_all_ex_last = cirq.Moment(gate_m_all_ex_last)"
   ]
  },
  {
   "cell_type": "code",
   "execution_count": 10,
   "metadata": {},
   "outputs": [
    {
     "name": "stdout",
     "output_type": "stream",
     "text": [
      "Circuit\n",
      "0: ───────H───@───────────────────H───M───\n",
      "              │\n",
      "1: ───────H───┼───@───────────────H───M───\n",
      "              │   │\n",
      "2: ───────H───┼───┼───@───────────H───M───\n",
      "              │   │   │\n",
      "3: ───────H───┼───┼───┼───@───────H───M───\n",
      "              │   │   │   │\n",
      "4: ───────H───┼───┼───┼───┼───@───H───M───\n",
      "              │   │   │   │   │\n",
      "5: ───X───H───X───X───X───X───X───────────\n"
     ]
    }
   ],
   "source": [
    "# circuit\n",
    "circuit = cirq.Circuit()\n",
    "circuit.append(moment_x_last)\n",
    "circuit.append(moment_h_all)\n",
    "\n",
    "circuit.append(get_oracle_gate(\"b\"))\n",
    "\n",
    "circuit.append(moment_h_all_ex_last)\n",
    "circuit.append(moment_m_all_ex_last)\n",
    "\n",
    "print(\"Circuit\")\n",
    "print(circuit)"
   ]
  },
  {
   "cell_type": "code",
   "execution_count": 11,
   "metadata": {},
   "outputs": [
    {
     "data": {
      "image/png": "[encoded data removed]",
      "text/plain": [
       "<Figure size 432x288 with 1 Axes>"
      ]
     },
     "metadata": {
      "needs_background": "light"
     },
     "output_type": "display_data"
    },
    {
     "data": {
      "text/plain": [
       "array([   0.,    0.,    0.,    0.,    0.,    0.,    0.,    0.,    0.,\n",
       "          0.,    0.,    0.,    0.,    0.,    0.,    0.,    0.,    0.,\n",
       "          0.,    0.,    0.,    0.,    0.,    0.,    0.,    0.,    0.,\n",
       "          0.,    0.,    0.,    0., 1000.])"
      ]
     },
     "execution_count": 11,
     "metadata": {},
     "output_type": "execute_result"
    }
   ],
   "source": [
    "# simulate\n",
    "simulator = cirq.Simulator()\n",
    "result = simulator.run(circuit, repetitions=1000)\n",
    "\n",
    "cirq.plot_state_histogram(result)"
   ]
  }
 ],
 "metadata": {
  "kernelspec": {
   "display_name": "Python 3",
   "language": "python",
   "name": "python3"
  },
  "language_info": {
   "codemirror_mode": {
    "name": "ipython",
    "version": 3
   },
   "file_extension": ".py",
   "mimetype": "text/x-python",
   "name": "python",
   "nbconvert_exporter": "python",
   "pygments_lexer": "ipython3",
   "version": "3.7.5"
  }
 },
 "nbformat": 4,
 "nbformat_minor": 4
}
